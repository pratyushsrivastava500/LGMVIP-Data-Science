{
 "cells": [
  {
   "cell_type": "markdown",
   "metadata": {
    "id": "A4SsRZ0Cnuc0"
   },
   "source": [
    "# Task 3 Music Recommendation\n",
    "\n",
    "### Music recommender system can suggest songs to users based on their listening pattern.\n",
    "\n",
    "## Author: Pratyush Srivastava\n",
    "\n",
    "## LGM VIP September 2021\n"
   ]
  },
  {
   "cell_type": "code",
   "execution_count": null,
   "metadata": {
    "colab": {
     "base_uri": "https://localhost:8080/"
    },
    "id": "n_ZicVF3Z93R",
    "outputId": "c156fd28-5e9a-489a-c468-550e64ff8803"
   },
   "outputs": [],
   "source": [
    "#Connect Kaggle with Colab to Import Dataset\n",
    "from google.colab import drive\n",
    "drive.mount('/content/gdrive')\n",
    "\n",
    "\n"
   ]
  },
  {
   "cell_type": "code",
   "execution_count": null,
   "metadata": {
    "colab": {
     "base_uri": "https://localhost:8080/"
    },
    "id": "ksy7vAesrzMf",
    "outputId": "f51194fc-fdcd-4045-bced-abaf174fe5b2"
   },
   "outputs": [],
   "source": [
    "import os\n",
    "os.environ['KAGGLE_CONFIG_DIR'] = \"/content/gdrive/My Drive/Kaggle\"\n",
    "\n",
    "%cd /content/gdrive/My Drive/Kaggle\n",
    "\n",
    "!kaggle competitions download -c kkbox-music-recommendation-challenge"
   ]
  },
  {
   "cell_type": "code",
   "execution_count": null,
   "metadata": {
    "colab": {
     "base_uri": "https://localhost:8080/"
    },
    "id": "VzG7Q7VSsHiA",
    "outputId": "8ab449ca-6530-40c2-9307-37b57f8666eb"
   },
   "outputs": [],
   "source": [
    "!pip install pyunpack\n",
    "!pip install patool\n",
    "from pyunpack import Archive\n",
    "Archive('train.csv.7z').extractall(\"/content/gdrive/My Drive/Kaggle\")\n",
    "Archive('test.csv.7z').extractall(\"/content/gdrive/My Drive/Kaggle\")\n",
    "\n",
    "Archive('members.csv.7z').extractall(\"/content/gdrive/My Drive/Kaggle\")\n",
    "\n",
    "Archive('songs.csv.7z').extractall(\"/content/gdrive/My Drive/Kaggle\")"
   ]
  },
  {
   "cell_type": "markdown",
   "metadata": {
    "id": "bPL3Aw90tjUf"
   },
   "source": [
    "Successfully Connected Kaggle with Colab and imported and unzip dataset"
   ]
  },
  {
   "cell_type": "markdown",
   "metadata": {
    "id": "3ghK_q0pp-bN"
   },
   "source": [
    "Now we import all required libraries for our task"
   ]
  },
  {
   "cell_type": "code",
   "execution_count": null,
   "metadata": {
    "id": "kCEvz9skpFfo"
   },
   "outputs": [],
   "source": [
    "from sklearn.model_selection import train_test_split\n",
    "import xgboost as xgb\n",
    "import numpy as np\n",
    "import pandas as pd\n",
    "import seaborn as sns\n",
    "import matplotlib.pyplot as plt\n",
    "import matplotlib as mpl\n",
    "import warnings\n",
    "warnings.filterwarnings('ignore')\n",
    "plt.style.use('ggplot')"
   ]
  },
  {
   "cell_type": "code",
   "execution_count": null,
   "metadata": {
    "id": "MIbjtfJFpSKY"
   },
   "outputs": [],
   "source": [
    "train = pd.read_csv('train.csv')\n",
    "test=pd.read_csv(\"test.csv\")\n",
    "members=pd.read_csv(\"members.csv\")\n",
    "songs=pd.read_csv(\"songs.csv\")"
   ]
  },
  {
   "cell_type": "code",
   "execution_count": null,
   "metadata": {
    "colab": {
     "base_uri": "https://localhost:8080/",
     "height": 204
    },
    "id": "yntDXouHqQWw",
    "outputId": "aa6fc701-fda3-420b-a9db-16f888d8d26d"
   },
   "outputs": [],
   "source": [
    "train.head()"
   ]
  },
  {
   "cell_type": "code",
   "execution_count": null,
   "metadata": {
    "colab": {
     "base_uri": "https://localhost:8080/",
     "height": 204
    },
    "id": "XaCIhjB9uB-S",
    "outputId": "4b7b092e-e9b7-464f-af06-432a9c3a17ab"
   },
   "outputs": [],
   "source": [
    "test.head()"
   ]
  },
  {
   "cell_type": "code",
   "execution_count": null,
   "metadata": {
    "colab": {
     "base_uri": "https://localhost:8080/",
     "height": 204
    },
    "id": "lXpqb6VAuD6r",
    "outputId": "ae389b25-6f68-4eca-99c6-5b6064f8fb04"
   },
   "outputs": [],
   "source": [
    "members.head()"
   ]
  },
  {
   "cell_type": "code",
   "execution_count": null,
   "metadata": {
    "colab": {
     "base_uri": "https://localhost:8080/",
     "height": 204
    },
    "id": "syFUO1uJuGeJ",
    "outputId": "5ba8ac1c-2868-45cb-f20f-99182a19c272"
   },
   "outputs": [],
   "source": [
    "songs.head()"
   ]
  },
  {
   "cell_type": "markdown",
   "metadata": {
    "id": "_E-4ZkHjuU2Y"
   },
   "source": [
    "Successfullly Imported all required dataset"
   ]
  },
  {
   "cell_type": "code",
   "execution_count": null,
   "metadata": {
    "id": "OIyq1v9iuKHB"
   },
   "outputs": [],
   "source": [
    "# 1% sample of items\n",
    "train = train.sample(frac=0.01)"
   ]
  },
  {
   "cell_type": "code",
   "execution_count": null,
   "metadata": {
    "colab": {
     "base_uri": "https://localhost:8080/"
    },
    "id": "JuNno1nZud8Y",
    "outputId": "58d7fe84-260b-4880-9396-45f782633a7f"
   },
   "outputs": [],
   "source": [
    "train.shape"
   ]
  },
  {
   "cell_type": "code",
   "execution_count": null,
   "metadata": {
    "id": "MFjvyLNbugc-"
   },
   "outputs": [],
   "source": [
    "train = pd.merge(train, songs, on='song_id', how='left')"
   ]
  },
  {
   "cell_type": "code",
   "execution_count": null,
   "metadata": {
    "colab": {
     "base_uri": "https://localhost:8080/"
    },
    "id": "ITDSaOwWusrz",
    "outputId": "d2961d72-37f5-40f8-d807-46c02af3fbaf"
   },
   "outputs": [],
   "source": [
    "train.shape"
   ]
  },
  {
   "cell_type": "code",
   "execution_count": null,
   "metadata": {
    "colab": {
     "base_uri": "https://localhost:8080/",
     "height": 343
    },
    "id": "xBhdxoeruvDf",
    "outputId": "8e1e8dfc-2f05-4c95-c8dd-ced4a7bec31a"
   },
   "outputs": [],
   "source": [
    "train.head()"
   ]
  },
  {
   "cell_type": "code",
   "execution_count": null,
   "metadata": {
    "colab": {
     "base_uri": "https://localhost:8080/",
     "height": 343
    },
    "id": "UnY-LGUbuxCT",
    "outputId": "44fee845-645e-4e6c-d8bc-23457842f248"
   },
   "outputs": [],
   "source": [
    "train = pd.merge(train, members, on='msno', how='left')\n",
    "train.shape\n",
    "train.head()"
   ]
  },
  {
   "cell_type": "code",
   "execution_count": null,
   "metadata": {
    "colab": {
     "base_uri": "https://localhost:8080/"
    },
    "id": "NS7GAo3fvJAM",
    "outputId": "ef972ba6-1a1a-4374-c5a8-cc36b31add78"
   },
   "outputs": [],
   "source": [
    "train.info()"
   ]
  },
  {
   "cell_type": "code",
   "execution_count": null,
   "metadata": {
    "colab": {
     "base_uri": "https://localhost:8080/"
    },
    "id": "DceqUfxIvQUF",
    "outputId": "89b529b0-5eb9-4b4e-8810-d23f83e8b962"
   },
   "outputs": [],
   "source": [
    "#Now I will count Null Values in %\n",
    "train.isnull().sum()/train.isnull().count()*100"
   ]
  },
  {
   "cell_type": "code",
   "execution_count": null,
   "metadata": {
    "id": "tUANA9NJvlZn"
   },
   "outputs": [],
   "source": [
    "#Most of the Columns are Non Null but some Columns have Null Values, Now Remove Null Values from Columns\n",
    "for i in train.select_dtypes(include=['object']).columns:\n",
    "    train[i][train[i].isnull()] = 'unknown'\n",
    "train = train.fillna(value=0)"
   ]
  },
  {
   "cell_type": "code",
   "execution_count": null,
   "metadata": {
    "colab": {
     "base_uri": "https://localhost:8080/"
    },
    "id": "351MP1Agv9Bd",
    "outputId": "9944b5d7-9066-45ac-9cc2-b5b7444def21"
   },
   "outputs": [],
   "source": [
    "#Now I will count Null Values in %\n",
    "train.isnull().sum()/train.isnull().count()*100"
   ]
  },
  {
   "cell_type": "markdown",
   "metadata": {
    "id": "HKx52p23wD3v"
   },
   "source": [
    "There is no null value left in our dataset"
   ]
  },
  {
   "cell_type": "markdown",
   "metadata": {
    "id": "1AabYj0twiRe"
   },
   "source": [
    "Now Changing Date and Time Format"
   ]
  },
  {
   "cell_type": "code",
   "execution_count": null,
   "metadata": {
    "id": "U63Uea-4wAhY"
   },
   "outputs": [],
   "source": [
    "# registration_init_time\n",
    "train.registration_init_time = pd.to_datetime(train.registration_init_time, format='%Y%m%d', errors='ignore')\n",
    "train['registration_init_time_year'] = train['registration_init_time'].dt.year\n",
    "train['registration_init_time_month'] = train['registration_init_time'].dt.month\n",
    "train['registration_init_time_day'] = train['registration_init_time'].dt.day\n",
    "\n",
    "# expiration_date\n",
    "train.expiration_date = pd.to_datetime(train.expiration_date,  format='%Y%m%d', errors='ignore')\n",
    "train['expiration_date_year'] = train['expiration_date'].dt.year\n",
    "train['expiration_date_month'] = train['expiration_date'].dt.month\n",
    "train['expiration_date_day'] = train['expiration_date'].dt.day"
   ]
  },
  {
   "cell_type": "code",
   "execution_count": null,
   "metadata": {
    "colab": {
     "base_uri": "https://localhost:8080/",
     "height": 343
    },
    "id": "kbXeld0Dwpxd",
    "outputId": "7e84aaf6-d6eb-4292-8bbb-e0006da83d06"
   },
   "outputs": [],
   "source": [
    "train.head()"
   ]
  },
  {
   "cell_type": "code",
   "execution_count": null,
   "metadata": {
    "id": "uFOlonmkwt4C"
   },
   "outputs": [],
   "source": [
    "\n",
    "# Changing Dates to category\n",
    "train['registration_init_time'] = train['registration_init_time'].astype('category')\n",
    "train['expiration_date'] = train['expiration_date'].astype('category')"
   ]
  },
  {
   "cell_type": "code",
   "execution_count": null,
   "metadata": {
    "colab": {
     "base_uri": "https://localhost:8080/",
     "height": 343
    },
    "id": "oFQFWeiVw2nH",
    "outputId": "f35a5041-2325-40cf-b8c2-ac67a680892e"
   },
   "outputs": [],
   "source": [
    "train.head()"
   ]
  },
  {
   "cell_type": "code",
   "execution_count": null,
   "metadata": {
    "id": "zM8szXNVw5Wq"
   },
   "outputs": [],
   "source": [
    "# Object data to category\n",
    "for col in train.select_dtypes(include=['object']).columns:\n",
    "    train[col] = train[col].astype('category')\n",
    "    \n",
    "# Encoding categorical features\n",
    "for col in train.select_dtypes(include=['category']).columns:\n",
    "    train[col] = train[col].cat.codes"
   ]
  },
  {
   "cell_type": "code",
   "execution_count": null,
   "metadata": {
    "colab": {
     "base_uri": "https://localhost:8080/",
     "height": 224
    },
    "id": "hfCbbbHKxMMa",
    "outputId": "f8fe59d4-67e5-4d68-ca0c-9807210e25ea"
   },
   "outputs": [],
   "source": [
    "train.head()"
   ]
  },
  {
   "cell_type": "markdown",
   "metadata": {
    "id": "iA81r87gxoIR"
   },
   "source": [
    "Now drop those columns which are not required for training"
   ]
  },
  {
   "cell_type": "code",
   "execution_count": null,
   "metadata": {
    "id": "VyJ5Lg-ExOsK"
   },
   "outputs": [],
   "source": [
    "\n",
    "# Drop columns\n",
    "train = train.drop(['expiration_date', 'lyricist'], 1)"
   ]
  },
  {
   "cell_type": "code",
   "execution_count": null,
   "metadata": {
    "colab": {
     "base_uri": "https://localhost:8080/"
    },
    "id": "OnwSgdbfxs6f",
    "outputId": "cd869072-4e3b-4914-f36e-ac1c30faf629"
   },
   "outputs": [],
   "source": [
    "train.shape"
   ]
  },
  {
   "cell_type": "markdown",
   "metadata": {
    "id": "W4ZmoMvoxyT6"
   },
   "source": [
    "Done with Data Cleaning Process, Now start training Model"
   ]
  },
  {
   "cell_type": "code",
   "execution_count": null,
   "metadata": {
    "id": "YDmVYYZZxxIu"
   },
   "outputs": [],
   "source": [
    "train1=train.copy()"
   ]
  },
  {
   "cell_type": "code",
   "execution_count": null,
   "metadata": {
    "id": "faGpONYDyEjb"
   },
   "outputs": [],
   "source": [
    "X_train=train1.drop(['target'],axis=1).values\n",
    "Y_train=train1['target'].values"
   ]
  },
  {
   "cell_type": "code",
   "execution_count": null,
   "metadata": {
    "id": "QiTR0tw1yICz"
   },
   "outputs": [],
   "source": [
    "x_train,x_test,y_train,y_test=train_test_split(X_train,Y_train,test_size=0.25)"
   ]
  },
  {
   "cell_type": "code",
   "execution_count": null,
   "metadata": {
    "id": "uuG4WQ2ByMAl"
   },
   "outputs": [],
   "source": [
    "from sklearn.ensemble import RandomForestClassifier\n"
   ]
  },
  {
   "cell_type": "code",
   "execution_count": null,
   "metadata": {
    "colab": {
     "base_uri": "https://localhost:8080/"
    },
    "id": "8UfOuAxKyRxe",
    "outputId": "3fc9b394-6439-4a3f-a910-15a8fb4ed465"
   },
   "outputs": [],
   "source": [
    "clf = RandomForestClassifier(n_estimators=250, max_depth=25, random_state=0)\n",
    "clf.fit(X_train,Y_train)"
   ]
  },
  {
   "cell_type": "code",
   "execution_count": null,
   "metadata": {
    "colab": {
     "base_uri": "https://localhost:8080/",
     "height": 354
    },
    "id": "iWJbSj0TySjj",
    "outputId": "3cebf749-cf30-4d22-e160-0cf0b28e2cff"
   },
   "outputs": [],
   "source": [
    "train_plot = pd.DataFrame({'features': train.columns[train.columns != 'target'],\n",
    "                        'importances': clf.feature_importances_})\n",
    "train_plot = train_plot.sort_values('importances', ascending=False)\n",
    "\n",
    "plt.figure(figsize=[11,5])\n",
    "sns.barplot(x = train_plot.importances, y = train_plot.features)\n",
    "plt.title('Importances of Features')\n",
    "plt.show()"
   ]
  },
  {
   "cell_type": "code",
   "execution_count": null,
   "metadata": {
    "id": "0kijNCMKzrvA"
   },
   "outputs": [],
   "source": [
    "train2=train.copy()"
   ]
  },
  {
   "cell_type": "code",
   "execution_count": null,
   "metadata": {
    "colab": {
     "base_uri": "https://localhost:8080/"
    },
    "id": "XL_tzUMs0ClS",
    "outputId": "e2d754c9-acbe-4396-da79-28db6ef3510d"
   },
   "outputs": [],
   "source": [
    "# Drop columns with importances < 0.04\n",
    "train2 = train2.drop(train_plot.features[train_plot.importances < 0.04].tolist(), 1)\n",
    "\n",
    "# Selected columns\n",
    "train2.columns"
   ]
  },
  {
   "cell_type": "code",
   "execution_count": null,
   "metadata": {
    "id": "n_IUYREh0G2L"
   },
   "outputs": [],
   "source": [
    "# Train & Test split\n",
    "train3=train.copy()\n",
    "\n",
    "X_train1=train3.drop(['target'],axis=1).values\n",
    "Y_train1=train3['target'].values\n",
    "\n",
    "x_train,x_test,y_train,y_test=train_test_split(X_train1,Y_train1,test_size=0.25)"
   ]
  },
  {
   "cell_type": "code",
   "execution_count": null,
   "metadata": {
    "colab": {
     "base_uri": "https://localhost:8080/"
    },
    "id": "WQ0ClAtt0Us0",
    "outputId": "f8a660a1-cf62-489d-e667-096974a69f2f"
   },
   "outputs": [],
   "source": [
    "# Create model\n",
    "model2 = xgb.XGBClassifier(learning_rate=0.1, max_depth=15, min_child_weight=5, n_estimators=250)\n",
    "model2.fit(X_train1, Y_train1)"
   ]
  },
  {
   "cell_type": "code",
   "execution_count": null,
   "metadata": {
    "id": "mGG4n8ej0bnr"
   },
   "outputs": [],
   "source": [
    "# Predicting\n",
    "Prediction = model2.predict(x_test)"
   ]
  },
  {
   "cell_type": "code",
   "execution_count": null,
   "metadata": {
    "colab": {
     "base_uri": "https://localhost:8080/"
    },
    "id": "Of84Faxy2AsH",
    "outputId": "4b413839-811d-4c39-c11e-32f7b94775c6"
   },
   "outputs": [],
   "source": [
    "from sklearn import metrics\n",
    "\n",
    "print(metrics.classification_report(y_test, Prediction))"
   ]
  },
  {
   "cell_type": "markdown",
   "metadata": {
    "id": "4vYuyW-l2JZL"
   },
   "source": [
    "97% Accuracy recorded, It is highest using XGBoost"
   ]
  },
  {
   "cell_type": "code",
   "execution_count": null,
   "metadata": {
    "id": "xrqf1fPu2U8O"
   },
   "outputs": [],
   "source": []
  }
 ],
 "metadata": {
  "colab": {
   "authorship_tag": "ABX9TyN6G0chUpGc2O6wiDCVBq36",
   "collapsed_sections": [],
   "include_colab_link": true,
   "name": "Task # 3 (BEGINNER LEVEL TASK) - LGM VIP AUGUST 2021.ipynb",
   "provenance": []
  },
  "kernelspec": {
   "display_name": "Python 3",
   "language": "python",
   "name": "python3"
  },
  "language_info": {
   "codemirror_mode": {
    "name": "ipython",
    "version": 3
   },
   "file_extension": ".py",
   "mimetype": "text/x-python",
   "name": "python",
   "nbconvert_exporter": "python",
   "pygments_lexer": "ipython3",
   "version": "3.8.8"
  }
 },
 "nbformat": 4,
 "nbformat_minor": 1
}
