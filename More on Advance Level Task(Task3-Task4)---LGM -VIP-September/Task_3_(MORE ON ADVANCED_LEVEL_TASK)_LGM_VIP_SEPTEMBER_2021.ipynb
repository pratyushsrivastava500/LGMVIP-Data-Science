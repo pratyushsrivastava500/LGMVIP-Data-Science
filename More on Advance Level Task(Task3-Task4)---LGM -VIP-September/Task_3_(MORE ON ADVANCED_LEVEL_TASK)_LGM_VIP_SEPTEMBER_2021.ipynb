{
 "cells": [
  {
   "cell_type": "markdown",
   "metadata": {},
   "source": [
    "# Task 3 Handwritten equation solver using CNN\n",
    "\n",
    "### Mathematical equation solver using character and symbol recognition using image processing and CNN. \n",
    "\n",
    "## Author: Pratyush Srivastava\n",
    "## LGM VIP SEPTEMBER 2021"
   ]
  },
  {
   "cell_type": "code",
   "execution_count": 31,
   "metadata": {
    "colab": {
     "base_uri": "https://localhost:8080/"
    },
    "id": "v0t5L5yTws4I",
    "outputId": "bf49a26b-5f70-405b-8eb7-d07d5307ae09"
   },
   "outputs": [
    {
     "name": "stderr",
     "output_type": "stream",
     "text": [
      "/usr/local/lib/python3.7/dist-packages/seaborn/_decorators.py:43: FutureWarning: Pass the following variable as a keyword arg: x. From version 0.12, the only valid positional argument will be `data`, and passing other arguments without an explicit keyword will result in an error or misinterpretation.\n",
      "  FutureWarning\n"
     ]
    }
   ],
   "source": [
    "\n",
    "import numpy as np \n",
    "import pandas as pd\n",
    "from sklearn.model_selection import train_test_split\n",
    "from keras.utils.np_utils import to_categorical\n",
    "import seaborn as sns\n",
    "\n",
    "np.random.seed(2)\n",
    "\n",
    "'load the dataset'\n",
    "dataset = pd.read_csv(\"dataset (2).csv\")\n",
    "\n",
    "'creating label'\n",
    "y = dataset[\"label\"]\n",
    "\n",
    "'dropping label'\n",
    "X = dataset.drop(labels = [\"label\"], axis = 1)\n",
    "\n",
    "'deleting dataset to reduce memory usage'\n",
    "del dataset\n",
    "\n",
    "'overview of dataset'\n",
    "g = sns.countplot(y)\n",
    "y.value_counts()\n",
    "\n",
    "'Grayscale normalization to reduce the effect of illumination differences.'\n",
    "X = X / 255.0\n",
    "\n",
    "'reshaping the dataset to fit standard of a 4D tensor of shape [mini-batch size, height = 28px, width = 28px, channels = 1 due to grayscale].'\n",
    "X = X.values.reshape(-1,28,28,1)\n",
    "\n",
    "'categorical conversion of label'\n",
    "y = to_categorical(y, num_classes = 14)\n",
    "\n",
    "'90% Training and 10% Validation split'\n",
    "random_seed = 2\n",
    "X_train, X_val, y_train, y_val = train_test_split(X, y, test_size = 0.1 , random_state = random_seed, stratify = y)"
   ]
  },
  {
   "cell_type": "code",
   "execution_count": 32,
   "metadata": {
    "colab": {
     "base_uri": "https://localhost:8080/"
    },
    "id": "n-g3Da2ox26I",
    "outputId": "9a3f9931-f234-4135-c5b6-50879d32a04c"
   },
   "outputs": [
    {
     "metadata": {
      "tags": null
     },
     "name": "stderr",
     "output_type": "stream",
     "text": [
      "/usr/local/lib/python3.7/dist-packages/keras/optimizer_v2/optimizer_v2.py:356: UserWarning: The `lr` argument is deprecated, use `learning_rate` instead.\n",
      "  \"The `lr` argument is deprecated, use `learning_rate` instead.\")\n",
      "/usr/local/lib/python3.7/dist-packages/keras/engine/training.py:1972: UserWarning: `Model.fit_generator` is deprecated and will be removed in a future version. Please use `Model.fit`, which supports generators.\n",
      "  warnings.warn('`Model.fit_generator` is deprecated and '\n"
     ]
    },
    {
     "name": "stdout",
     "output_type": "stream",
     "text": [
      "Epoch 1/5\n",
      "896/896 [==============================] - 553s 616ms/step - loss: 0.2798 - accuracy: 0.9143 - val_loss: 0.0846 - val_accuracy: 0.9721\n",
      "Epoch 2/5\n",
      "896/896 [==============================] - 556s 620ms/step - loss: 0.0813 - accuracy: 0.9754 - val_loss: 0.0333 - val_accuracy: 0.9898\n",
      "Epoch 3/5\n",
      "896/896 [==============================] - 551s 615ms/step - loss: 0.0636 - accuracy: 0.9816 - val_loss: 0.0392 - val_accuracy: 0.9897\n",
      "Epoch 4/5\n",
      "896/896 [==============================] - 547s 611ms/step - loss: 0.0565 - accuracy: 0.9839 - val_loss: 0.0307 - val_accuracy: 0.9924\n",
      "Epoch 5/5\n",
      "896/896 [==============================] - 547s 611ms/step - loss: 0.0564 - accuracy: 0.9841 - val_loss: 0.0408 - val_accuracy: 0.9918\n"
     ]
    }
   ],
   "source": [
    "from keras.models import Sequential\n",
    "from keras.layers import Dense, Dropout, Flatten, Conv2D, MaxPool2D\n",
    "from tensorflow.keras.optimizers import RMSprop\n",
    "from keras.preprocessing.image import ImageDataGenerator\n",
    "from keras.callbacks import ReduceLROnPlateau\n",
    "from tensorflow import keras\n",
    "\n",
    "'creating the instance of the model'\n",
    "model = Sequential()\n",
    "\n",
    "'adding layers to the model'\n",
    "#Layer: 1\n",
    "model.add(Conv2D(filters = 32, kernel_size = (5,5), padding = \"Same\", activation = \"relu\", input_shape = (28, 28, 1)))\n",
    "model.add(Conv2D(filters = 32, kernel_size = (5,5), padding = \"Same\", activation = \"relu\"))\n",
    "model.add(MaxPool2D(pool_size = (2,2)))\n",
    "model.add(Dropout(0.25))\n",
    "\n",
    "#Layer: 2\n",
    "model.add(Conv2D(filters = 64, kernel_size = (3,3), padding = \"Same\", activation = \"relu\"))\n",
    "model.add(Conv2D(filters = 64, kernel_size = (3,3), padding = \"Same\", activation = \"relu\"))\n",
    "model.add(MaxPool2D(pool_size = (2,2)))\n",
    "model.add(Dropout(0.25))\n",
    "\n",
    "\n",
    "#fully connected layer and output\n",
    "model.add(Flatten())\n",
    "model.add(Dense(256, activation = \"relu\"))\n",
    "model.add(Dropout(0.25))\n",
    "model.add(Dense(14, activation = \"softmax\"))\n",
    "\n",
    "\n",
    "\n",
    "'Set the optimizer and annealer'\n",
    "optimizer = RMSprop(lr = 0.001, rho = 0.9, epsilon = 1e-08, decay=0.0 )\n",
    "\n",
    "model.compile(optimizer = optimizer, loss = \"categorical_crossentropy\", metrics = [\"accuracy\"])\n",
    "\n",
    "learning_rate_reduction = ReduceLROnPlateau(monitor = \"val_accuracy\",\n",
    "                                            patience = 3,\n",
    "                                            verbose = 1,\n",
    "                                            factor = 0.5,\n",
    "                                            min_lr = 0.0001)\n",
    "\n",
    "\n",
    "'data augmentation'\n",
    "datagen = ImageDataGenerator(\n",
    "        featurewise_center=False,  # set input mean to 0 over the dataset\n",
    "        samplewise_center=False,  # set each sample mean to 0\n",
    "        featurewise_std_normalization=False,  # divide inputs by std of the dataset\n",
    "        samplewise_std_normalization=False,  # divide each input by its std\n",
    "        zca_whitening=False,  # apply ZCA whitening\n",
    "        rotation_range=10,  # randomly rotate images in the range (degrees, 0 to 180)\n",
    "        zoom_range = 0.1, # Randomly zoom image \n",
    "        width_shift_range=0.1,  # randomly shift images horizontally (fraction of total width)\n",
    "        height_shift_range=0.1,  # randomly shift images vertically (fraction of total height)\n",
    "        horizontal_flip=False,  # randomly flip images\n",
    "        vertical_flip=False)  # randomly flip images\n",
    "\n",
    "datagen.fit(X_train)\n",
    "\n",
    "\n",
    "'fitting the model'\n",
    "epochs = 5\n",
    "batch_size = 86\n",
    "\n",
    "\n",
    "history = model.fit_generator(\n",
    "                                datagen.flow(X_train,y_train, batch_size=batch_size),\n",
    "                                epochs = epochs, #An epoch is an iteration over the entire x and y data provided\n",
    "                                validation_data = (X_val,y_val), #Data on which to evaluate the loss and any model metrics at the end of each epoch. \n",
    "                                verbose = 1, #output\n",
    "                                steps_per_epoch=X_train.shape[0] // batch_size,  # Total number of steps (batches of samples) before declaring one epoch finished and starting the next epoch.\n",
    "                                callbacks=[learning_rate_reduction]                            \n",
    "                              )\n",
    "'saving the model in HDF5 binary data format'\n",
    "model.save(\"...//model.h5\")"
   ]
  },
  {
   "cell_type": "code",
   "execution_count": 34,
   "metadata": {
    "id": "IfauFHHcyC8i"
   },
   "outputs": [],
   "source": [
    "from PIL import Image\n",
    "from itertools import groupby\n",
    "\n",
    "'loading image in grayscale'\n",
    "image = Image.open(\"testing.png\").convert(\"L\")\n",
    "\n",
    "'resizing to 28 height pixels'\n",
    "w = image.size[0]\n",
    "h = image.size[1]\n",
    "r = w / h # aspect ratio\n",
    "new_w = int(r * 28)\n",
    "new_h = 28\n",
    "new_image = image.resize((new_w, new_h))\n",
    "\n",
    "'converting to a numpy array'\n",
    "new_image_arr = np.array(new_image)\n",
    "\n",
    "'inverting the image to make background = 0'\n",
    "new_inv_image_arr = 255 - new_image_arr\n",
    "\n",
    "'rescaling the image'\n",
    "final_image_arr = new_inv_image_arr / 255.0\n",
    "\n",
    "'splitting image array into individual element arrays using non zero columns'\n",
    "m = final_image_arr.any(0)\n",
    "out = [final_image_arr[:,[*g]] for k, g in groupby(np.arange(len(m)), lambda x: m[x] != 0) if k]\n",
    "\n",
    "\n",
    "'''\n",
    "iterating through the element arrays to resize them to match input \n",
    "criteria of the model = [mini_batch_size, height, width, channels]\n",
    "'''\n",
    "num_of_elements = len(out)\n",
    "elements_list = []\n",
    "for x in range(0, num_of_elements):\n",
    "    img = out[x]\n",
    "    \n",
    "    #adding 0 value columns as fillers\n",
    "    width = img.shape[1]\n",
    "    filler = (final_image_arr.shape[0] - width) / 2\n",
    "    \n",
    "    if filler.is_integer() == False:    #odd number of filler columns\n",
    "        filler_l = int(filler)\n",
    "        filler_r = int(filler) + 1\n",
    "    else:                               #even number of filler columns\n",
    "        filler_l = int(filler)\n",
    "        filler_r = int(filler)\n",
    "    \n",
    "    arr_l = np.zeros((final_image_arr.shape[0], filler_l)) #left fillers\n",
    "    arr_r = np.zeros((final_image_arr.shape[0], filler_r)) #right fillers\n",
    "    \n",
    "    #concatinating the left and right fillers\n",
    "    help_ = np.concatenate((arr_l, img), axis= 1)\n",
    "    element_arr = np.concatenate((help_, arr_r), axis= 1)\n",
    "    \n",
    "    element_arr.resize(28, 28, 1) #resize array 2d to 3d\n",
    "    #storing all elements in a list\n",
    "    elements_list.append(element_arr)\n",
    "elements_array = np.array(elements_list)\n",
    "'reshaping to fit model input criteria'\n",
    "elements_array = elements_array.reshape(-1, 28, 28, 1)\n",
    "'predicting using the created model'\n",
    "model = keras.models.load_model(\"...//model.h5\")\n",
    "elements_pred =  model.predict(elements_array)\n",
    "elements_pred = np.argmax(elements_pred, axis = 1)"
   ]
  },
  {
   "cell_type": "code",
   "execution_count": 35,
   "metadata": {
    "colab": {
     "base_uri": "https://localhost:8080/"
    },
    "id": "y1AYa0AX8s9-",
    "outputId": "a420ab48-d5ce-4f15-8251-b2fb7bce9a77"
   },
   "outputs": [
    {
     "data": {
      "text/plain": [
       "(14, 28, 28, 1)"
      ]
     },
     "execution_count": 35,
     "metadata": {},
     "output_type": "execute_result"
    }
   ],
   "source": [
    "elements_array.shape"
   ]
  },
  {
   "cell_type": "code",
   "execution_count": 5,
   "metadata": {},
   "outputs": [
    {
     "data": {
      "image/png": "[encoded data removed]",
      "text/plain": [
       "<Figure size 640x480 with 1 Axes>"
      ]
     },
     "metadata": {},
     "output_type": "display_data"
    }
   ],
   "source": [
    "import matplotlib.pyplot as plt\n",
    "import matplotlib.image as mpimg\n",
    "image = mpimg.imread(\"testing.png\")\n",
    "plt.imshow(image)\n",
    "plt.show()"
   ]
  },
  {
   "cell_type": "code",
   "execution_count": 36,
   "metadata": {
    "colab": {
     "base_uri": "https://localhost:8080/"
    },
    "id": "KrExTe5W825F",
    "outputId": "06874ce6-fb1e-40ac-cb2a-29714aeb01fe"
   },
   "outputs": [
    {
     "name": "stdout",
     "output_type": "stream",
     "text": [
      "[ 9  8 10  7  6 13  5  4 11  3  2 12  1  0]\n"
     ]
    }
   ],
   "source": [
    "print(elements_pred)"
   ]
  },
  {
   "cell_type": "code",
   "execution_count": 37,
   "metadata": {
    "colab": {
     "base_uri": "https://localhost:8080/"
    },
    "id": "HDcHIRRp85pJ",
    "outputId": "07a84948-fbec-40d2-b9b6-90a5e870edd1"
   },
   "outputs": [
    {
     "name": "stdout",
     "output_type": "stream",
     "text": [
      "98 / 76 * 54 + 32 - 10 = 91.63\n"
     ]
    }
   ],
   "source": [
    "def math_expression_generator(arr):\n",
    "    \n",
    "    op = {\n",
    "              10,   # = \"/\"\n",
    "              11,   # = \"+\"\n",
    "              12,   # = \"-\"\n",
    "              13    # = \"*\"\n",
    "                  }   \n",
    "    \n",
    "    m_exp = []\n",
    "    temp = []\n",
    "        \n",
    "    'creating a list separating all elements'\n",
    "    for item in arr:\n",
    "        if item not in op:\n",
    "            temp.append(item)\n",
    "        else:\n",
    "            m_exp.append(temp)\n",
    "            m_exp.append(item)\n",
    "            temp = []\n",
    "    if temp:\n",
    "        m_exp.append(temp)\n",
    "        \n",
    "    'converting the elements to numbers and operators'\n",
    "    i = 0\n",
    "    num = 0\n",
    "    for item in m_exp:\n",
    "        if type(item) == list:\n",
    "            if not item:\n",
    "                m_exp[i] = \"\"\n",
    "                i = i + 1\n",
    "            else:\n",
    "                num_len = len(item)\n",
    "                for digit in item:\n",
    "                    num_len = num_len - 1\n",
    "                    num = num + ((10 ** num_len) * digit)\n",
    "                m_exp[i] = str(num)\n",
    "                num = 0\n",
    "                i = i + 1\n",
    "        else:\n",
    "            m_exp[i] = str(item)\n",
    "            m_exp[i] = m_exp[i].replace(\"10\",\"/\")\n",
    "            m_exp[i] = m_exp[i].replace(\"11\",\"+\")\n",
    "            m_exp[i] = m_exp[i].replace(\"12\",\"-\")\n",
    "            m_exp[i] = m_exp[i].replace(\"13\",\"*\")\n",
    "            \n",
    "            i = i + 1\n",
    "    \n",
    "    \n",
    "    'joining the list of strings to create the mathematical expression'\n",
    "    separator = ' '\n",
    "    m_exp_str = separator.join(m_exp)\n",
    "    \n",
    "    return (m_exp_str)\n",
    "\n",
    "'creating the mathematical expression'\n",
    "m_exp_str = math_expression_generator(elements_pred)\n",
    "\n",
    "'calculating the mathematical expression using eval()'\n",
    "while True:\n",
    "    try:\n",
    "        answer = eval(m_exp_str)    #evaluating the answer\n",
    "        answer = round(answer, 2)\n",
    "        equation  = m_exp_str + \" = \" + str(answer)\n",
    "        print(equation)   #printing the equation\n",
    "        break\n",
    "\n",
    "    except SyntaxError:\n",
    "        print(\"Invalid predicted expression!!\")\n",
    "        print(\"Following is the predicted expression:\")\n",
    "        print(m_exp_str)\n",
    "        break\n"
   ]
  },
  {
   "cell_type": "code",
   "execution_count": 38,
   "metadata": {
    "id": "nD6Ei-gT9CLo"
   },
   "outputs": [],
   "source": [
    "m_exp_str = math_expression_generator(elements_pred)"
   ]
  },
  {
   "cell_type": "code",
   "execution_count": 39,
   "metadata": {
    "colab": {
     "base_uri": "https://localhost:8080/"
    },
    "id": "2C4QcSSA9F2Y",
    "outputId": "0e757e11-2d49-43e1-8aea-b159f601ea5a"
   },
   "outputs": [
    {
     "name": "stdout",
     "output_type": "stream",
     "text": [
      "98 / 76 * 54 + 32 - 10\n"
     ]
    }
   ],
   "source": [
    "print(m_exp_str)"
   ]
  },
  {
   "cell_type": "code",
   "execution_count": 40,
   "metadata": {
    "colab": {
     "base_uri": "https://localhost:8080/"
    },
    "id": "SSQPpeXq9ICS",
    "outputId": "e7214731-3c33-4a53-9dad-4ab0ec748a1b"
   },
   "outputs": [
    {
     "name": "stdout",
     "output_type": "stream",
     "text": [
      "98 / 76 * 54 + 32 - 10 = 91.63\n"
     ]
    }
   ],
   "source": [
    "print(equation)"
   ]
  },
  {
   "cell_type": "code",
   "execution_count": 41,
   "metadata": {
    "colab": {
     "base_uri": "https://localhost:8080/"
    },
    "id": "mWC-nKZq9KH8",
    "outputId": "c11c1657-7547-4088-9f67-e7c0e6efc454"
   },
   "outputs": [
    {
     "name": "stdout",
     "output_type": "stream",
     "text": [
      "Was the expression correctly predicted? (y/n): y\n"
     ]
    }
   ],
   "source": [
    "def model_update(X, y, model):\n",
    "    \n",
    "    from tensorflow.keras.optimizers import RMSprop\n",
    "    from keras.utils.np_utils import to_categorical\n",
    "    from keras.preprocessing.image import ImageDataGenerator\n",
    "      \n",
    "    y = to_categorical(y, num_classes = 14)\n",
    "    \n",
    "    datagen = ImageDataGenerator(\n",
    "        featurewise_center=False,  # set input mean to 0 over the dataset\n",
    "        samplewise_center=False,  # set each sample mean to 0\n",
    "        featurewise_std_normalization=False,  # divide inputs by std of the dataset\n",
    "        samplewise_std_normalization=False,  # divide each input by its std\n",
    "        zca_whitening=False,  # apply ZCA whitening\n",
    "        rotation_range=10,  # randomly rotate images in the range (degrees, 0 to 180)\n",
    "        zoom_range = 0.1, # Randomly zoom image \n",
    "        width_shift_range=0.1,  # randomly shift images horizontally (fraction of total width)\n",
    "        height_shift_range=0.1,  # randomly shift images vertically (fraction of total height)\n",
    "        horizontal_flip=False,  # randomly flip images\n",
    "        vertical_flip=False)  # randomly flip images\n",
    "\n",
    "    datagen.fit(X)\n",
    "\n",
    "    #freezing layers 0 to 4\n",
    "    for l in range(0, 5):\n",
    "        model.layers[l].trainable = False\n",
    "\n",
    "    optimizer = RMSprop(lr = 0.0001, rho = 0.9, epsilon = 1e-08, decay=0.0 )\n",
    "    model.compile(optimizer = optimizer, loss = \"categorical_crossentropy\", metrics = [\"accuracy\"])\n",
    "        \n",
    "    history = model.fit(\n",
    "                            datagen.flow(X,y, batch_size = 1),\n",
    "                            epochs = 10,\n",
    "                            verbose = 1\n",
    "                        )\n",
    "    \n",
    "    'saving the updated model'\n",
    "    model.save(\"...//updated_model.h5\") \n",
    "    \n",
    "    print(\"Model has been updated!!\")\n",
    "#++++++++++++++++++++++++++++++++++++++++++++++++++++++\n",
    "\n",
    "\n",
    "\n",
    "'taking user feedback regarding prediction'\n",
    "feedback = input(\"Was the expression correctly predicted? (y/n): \")\n",
    "\n",
    "'if no then, asking user for correct expression'\n",
    "if feedback == \"n\":\n",
    "    corr_ans_str = str(input(\"The correct expression is: \"))\n",
    "    corr_ans_str = corr_ans_str.replace(\" \", \"\")\n",
    "    \n",
    "    def feedback_conversion(correct_ans_str):\n",
    "        return [char for char in correct_ans_str]\n",
    "    \n",
    "    corr_ans_list = feedback_conversion(corr_ans_str)\n",
    "    dic = {\"/\":\"10\", \"+\": \"11\", \"-\": \"12\", \"*\": \"13\"}  \n",
    "    corr_ans_list = [dic.get(n, n) for n in corr_ans_list]\n",
    "    corr_ans_arr= np.array(list(map(int, corr_ans_list)))\n",
    "    print(corr_ans_arr.shape)\n",
    "    \n",
    "    'comparing the expressions and getting the indexes of the wrong predictioned elements'\n",
    "    wrong_pred_indices = []\n",
    "    \n",
    "    for i in range(len(corr_ans_arr)):\n",
    "        if corr_ans_arr[i] == elements_pred[i]:\n",
    "            pass\n",
    "        else:\n",
    "            wrong_pred_indices.append(i)\n",
    "    \n",
    "    'picking up the wrongly predicted elements'\n",
    "    X = elements_array[[wrong_pred_indices]]\n",
    "    \n",
    "    'reshaping to fit model input standards'\n",
    "    if len(X.shape) == 3:\n",
    "        X = X.reshape(-1, 28, 28, 1)\n",
    "    else:\n",
    "        pass\n",
    "    \n",
    "    'the correct answers as labels'\n",
    "    y = corr_ans_arr[[wrong_pred_indices]]\n",
    "    \n",
    "    'updating the model'\n",
    "    model_update(X, y, model)    \n",
    "    \n",
    "    \n",
    "else:\n",
    "    'if expression is correctly predicted'\n",
    "    pass\n"
   ]
  },
  {
   "cell_type": "code",
   "execution_count": null,
   "metadata": {
    "id": "LKVW6SWJ9SRK"
   },
   "outputs": [],
   "source": []
  }
 ],
 "metadata": {
  "accelerator": "TPU",
  "colab": {
   "name": "Untitled25.ipynb",
   "provenance": []
  },
  "kernelspec": {
   "display_name": "Python 3",
   "language": "python",
   "name": "python3"
  },
  "language_info": {
   "codemirror_mode": {
    "name": "ipython",
    "version": 3
   },
   "file_extension": ".py",
   "mimetype": "text/x-python",
   "name": "python",
   "nbconvert_exporter": "python",
   "pygments_lexer": "ipython3",
   "version": "3.8.8"
  }
 },
 "nbformat": 4,
 "nbformat_minor": 1
}
